{
 "cells": [
  {
   "cell_type": "markdown",
   "id": "f8edc709",
   "metadata": {},
   "source": [
    "# **DNA Barcoding Analysis: Alignment-Based vs. Deep Learning Approaches**"
   ]
  },
  {
   "cell_type": "markdown",
   "id": "03884b49",
   "metadata": {},
   "source": [
    "## **Step 1: Setup**"
   ]
  },
  {
   "cell_type": "code",
   "execution_count": null,
   "id": "09580da2",
   "metadata": {},
   "outputs": [],
   "source": [
    "# Mount Google Drive\n",
    "# from google.colab import drive\n",
    "# drive.mount('/content/drive')"
   ]
  },
  {
   "cell_type": "code",
   "execution_count": null,
   "id": "b4863da9",
   "metadata": {},
   "outputs": [],
   "source": [
    "# Navigate to the data folder\n",
    "# %cd /content/drive/My\\ Drive/EIFA_Clase_Practica"
   ]
  },
  {
   "cell_type": "code",
   "execution_count": null,
   "id": "47cc5541",
   "metadata": {},
   "outputs": [],
   "source": [
    "# List contents to confirm files are present\n",
    "# !ls"
   ]
  },
  {
   "cell_type": "markdown",
   "id": "9d870b98",
   "metadata": {},
   "source": [
    "## **Step 2: Install BLAST**"
   ]
  },
  {
   "cell_type": "code",
   "execution_count": null,
   "id": "cbe27af5",
   "metadata": {},
   "outputs": [],
   "source": [
    "# Update and install BLAST\n",
    "# !sudo apt-get update\n",
    "# !sudo apt-get install ncbi-blast+"
   ]
  },
  {
   "cell_type": "code",
   "execution_count": null,
   "id": "f07c4771",
   "metadata": {},
   "outputs": [],
   "source": [
    "# Verify BLAST installation\n",
    "# !blastn -version"
   ]
  },
  {
   "cell_type": "markdown",
   "id": "224338a2",
   "metadata": {},
   "source": [
    "## **Step 3: Alignment-Based DNA Barcoding Analysis with BLAST**"
   ]
  },
  {
   "cell_type": "code",
   "execution_count": null,
   "id": "22bdf297",
   "metadata": {},
   "outputs": [],
   "source": [
    "# Create BLAST database\n",
    "# !makeblastdb -in supervised_train.fas -title train -dbtype nucl -out train.fas"
   ]
  },
  {
   "cell_type": "code",
   "execution_count": null,
   "id": "638af959",
   "metadata": {},
   "outputs": [],
   "source": [
    "# Perform BLAST search\n",
    "# !blastn -query unseen.fas -db train.fas -out results_unseen.tsv -outfmt 6"
   ]
  },
  {
   "cell_type": "code",
   "execution_count": null,
   "id": "e337d8a6",
   "metadata": {},
   "outputs": [],
   "source": [
    "# Read BLAST results and extract top hit identifiers\n",
    "# import pandas as pd\n",
    "# blast_results = pd.read_csv('results_unseen.tsv', sep='\\t', header=None)\n",
    "# blast_results.columns = [...]\n",
    "# top_hits = blast_results.groupby('qseqid').first().reset_index()\n",
    "# top_hits_identifiers = top_hits[['qseqid', 'sseqid']]\n",
    "# top_hits_identifiers.head()"
   ]
  },
  {
   "cell_type": "markdown",
   "id": "42b95378",
   "metadata": {},
   "source": [
    "## **Step 4: Deep Learning-Based DNA Barcoding Analysis**"
   ]
  },
  {
   "cell_type": "code",
   "execution_count": null,
   "id": "dc9ac78c",
   "metadata": {},
   "outputs": [],
   "source": [
    "# Set up and test transformer models\n",
    "# import sys\n",
    "# import os\n",
    "# sys.path.append('.')\n",
    "# from baselines.datasets import representations_from_df\n",
    "# from baselines.io import load_baseline_model\n",
    "# data_folder = 'BIOSCAN_5M_DNA_experiments/data'\n",
    "# for model_name in [...]:\n",
    "#    [...]  # Load and process models\n"
   ]
  },
  {
   "cell_type": "markdown",
   "id": "c789c7d7",
   "metadata": {},
   "source": [
    "## **Step 5: K-Nearest Neighbors (KNN) Search Using Embeddings**"
   ]
  },
  {
   "cell_type": "code",
   "execution_count": null,
   "id": "ba175531",
   "metadata": {},
   "outputs": [],
   "source": [
    "# Implement KNN search on embeddings\n",
    "# from sklearn.neighbors import NearestNeighbors\n",
    "# import numpy as np\n",
    "# knn = NearestNeighbors(n_neighbors=1)\n",
    "# distances, indices = knn.kneighbors(...)\n",
    "# closest_ids = [...]\n",
    "# closest_ids"
   ]
  }
 ],
 "metadata": {},
 "nbformat": 4,
 "nbformat_minor": 5
}
