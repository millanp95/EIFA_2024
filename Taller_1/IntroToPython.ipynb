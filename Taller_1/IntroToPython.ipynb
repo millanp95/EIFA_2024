{
 "cells": [
  {
   "cell_type": "markdown",
   "id": "11159b3d",
   "metadata": {},
   "source": [
    "# EIFA  Workshop No. 0 - Python Programming\n",
    "In this workshop we will get familiar with the basic conceps of Python programming that will be useful for coding Neural Networks. This workshop is based on content from the book *\"Data Structures and Algorithms in Python\"  by Michael T. Goodrich, Roberto Tamassia and Michael H. Goldwasser* and the University of Clemson online achine learning Workshops."
   ]
  },
  {
   "cell_type": "markdown",
   "id": "e7c11cf0",
   "metadata": {},
   "source": [
    "## Objects in Python \n",
    "Python is an object-oriented language and classes form the basis for all data types. In this section, we describe key aspects of Python’s object model, and we introduce Python’s built-in classes, such as the int class for integers, the ﬂoat class for ﬂoating-point values, and the str class for character strings.\n",
    "\n",
    "### Basic Data Types\n",
    "- **Integers**:Whole numbers like 1, 2, 3, 4, 23433\n",
    "- **Strings**:Text, words, statements that are enclosed withing quotation marks `\"\"` or `''`.\n",
    "- **Floating Points (Floats)**: Fractional or Decimal numbers: 2.333, 21.41, 3.1416"
   ]
  },
  {
   "cell_type": "code",
   "execution_count": 1,
   "id": "c69bada3",
   "metadata": {},
   "outputs": [
    {
     "data": {
      "text/plain": [
       "12"
      ]
     },
     "execution_count": 1,
     "metadata": {},
     "output_type": "execute_result"
    }
   ],
   "source": [
    "12 #This is an integer"
   ]
  },
  {
   "cell_type": "code",
   "execution_count": 2,
   "id": "8f4f1ab0",
   "metadata": {},
   "outputs": [
    {
     "data": {
      "text/plain": [
       "'Cali es Cali ...'"
      ]
     },
     "execution_count": 2,
     "metadata": {},
     "output_type": "execute_result"
    }
   ],
   "source": [
    "\"Cali es Cali ...\" #This is a string"
   ]
  },
  {
   "cell_type": "code",
   "execution_count": 3,
   "id": "4860a39d",
   "metadata": {},
   "outputs": [
    {
     "data": {
      "text/plain": [
       "3.1416"
      ]
     },
     "execution_count": 3,
     "metadata": {},
     "output_type": "execute_result"
    }
   ],
   "source": [
    "3.1416 #This is a float"
   ]
  },
  {
   "cell_type": "markdown",
   "id": "568d7f8b",
   "metadata": {},
   "source": [
    "### Built-in Functions\n",
    "   \n",
    "A function is a set of instructions/ code that performs a task/specific action. For now, we'll just worry about the functions that Python has built in. These are already defined and coded. You can access by \"calling\" them.\n",
    "\n",
    "`print()` is a built-in function that prints whatever you put between the parentheses (*argument*) to the screen. \n",
    "\n",
    "`type()` is a built-in function that prints the data type of its argument to the screen"
   ]
  },
  {
   "cell_type": "code",
   "execution_count": 4,
   "id": "b387aadb",
   "metadata": {},
   "outputs": [
    {
     "name": "stdout",
     "output_type": "stream",
     "text": [
      "Cali es Cali\n"
     ]
    }
   ],
   "source": [
    "print(\"Cali es Cali\") #built in function"
   ]
  },
  {
   "cell_type": "code",
   "execution_count": 5,
   "id": "8f4e2932",
   "metadata": {},
   "outputs": [
    {
     "data": {
      "text/plain": [
       "str"
      ]
     },
     "execution_count": 5,
     "metadata": {},
     "output_type": "execute_result"
    }
   ],
   "source": [
    "type(\"3.14159\")"
   ]
  },
  {
   "cell_type": "markdown",
   "id": "a41896d6",
   "metadata": {},
   "source": [
    "### Variables\n",
    "A variable can be associated with any type of object, and it can later be reassigned to another object of the same (or different) type. Unlike Java and C++, Python is a dynamically typed language, as there is no advance declaration associating a variable with a articular data type."
   ]
  },
  {
   "cell_type": "code",
   "execution_count": 6,
   "id": "c32170c2",
   "metadata": {},
   "outputs": [],
   "source": [
    "country=\"Colombia\"\n",
    "city = \"Bogota\"\n",
    "temperature = 12.5\n",
    "\n"
   ]
  },
  {
   "cell_type": "markdown",
   "id": "00916ab7",
   "metadata": {},
   "source": [
    "\n",
    ">**Question**: Define two variables to store the values of the name and the temperature of the city you currently live in. Can you add the two variables as you defined them?"
   ]
  },
  {
   "cell_type": "code",
   "execution_count": 7,
   "id": "db370a97",
   "metadata": {},
   "outputs": [],
   "source": [
    "# We can define store the values in the following variables\n",
    "temperature = 26.5\n",
    "name = \"Cali\"\n",
    "\n",
    "# We cannot add the two variables as they are becausse they correspond to two different data tyoes"
   ]
  },
  {
   "cell_type": "markdown",
   "id": "4ec6feb6",
   "metadata": {},
   "source": [
    "#### Naming variables \n",
    "**Rules/guidelines:**  \n",
    " - No spaces  \n",
    " - No Special Characters @ , ! , %  \n",
    " - Do not name variables after a function name  "
   ]
  },
  {
   "cell_type": "markdown",
   "id": "4ebcc24b",
   "metadata": {},
   "source": [
    "# Arithmetic Operations"
   ]
  },
  {
   "cell_type": "code",
   "execution_count": 8,
   "id": "1e01fab7",
   "metadata": {},
   "outputs": [
    {
     "data": {
      "text/plain": [
       "1.2857142857142858"
      ]
     },
     "execution_count": 8,
     "metadata": {},
     "output_type": "execute_result"
    }
   ],
   "source": [
    "#Built in Math Operations\n",
    "4.5+3.5 #Addition\n",
    "4.5-3.5 #Subtraction\n",
    "4.5*3.5 #Multiplication\n",
    "4.5/3.5 #Division"
   ]
  },
  {
   "cell_type": "markdown",
   "id": "ba93adf9",
   "metadata": {},
   "source": [
    "We can define two variables `a` and `b` and assign values to perform operations and define new variables"
   ]
  },
  {
   "cell_type": "code",
   "execution_count": 9,
   "id": "41409afc",
   "metadata": {},
   "outputs": [
    {
     "name": "stdout",
     "output_type": "stream",
     "text": [
      "6.49\n",
      "2.245\n"
     ]
    }
   ],
   "source": [
    "a = 4.49\n",
    "b = 2\n",
    "\n",
    "sum_a_b = a + b\n",
    "print(sum_a_b) \n",
    "\n",
    "div_a_b = a / b\n",
    "print(div_a_b)"
   ]
  },
  {
   "cell_type": "code",
   "execution_count": 10,
   "id": "5d1797dc",
   "metadata": {},
   "outputs": [],
   "source": [
    "#Additional Math Operations\n",
    "a_quo = a // b #quotient\n",
    "a_mod = a % b #modulo or remainder\n",
    "a_pow = a ** b #power or exponent 2**3 = 8"
   ]
  },
  {
   "cell_type": "code",
   "execution_count": 11,
   "id": "94250e90",
   "metadata": {},
   "outputs": [
    {
     "data": {
      "text/plain": [
       "2.0"
      ]
     },
     "execution_count": 11,
     "metadata": {},
     "output_type": "execute_result"
    }
   ],
   "source": [
    "a_quo"
   ]
  },
  {
   "cell_type": "markdown",
   "id": "eb716fed",
   "metadata": {},
   "source": [
    ">**Question**: Evaluate the following polynomial $x^4 - 3x^2 - 8x + 15$ in $x=3$"
   ]
  },
  {
   "cell_type": "code",
   "execution_count": 12,
   "id": "a827a60a",
   "metadata": {},
   "outputs": [
    {
     "data": {
      "text/plain": [
       "45"
      ]
     },
     "execution_count": 12,
     "metadata": {},
     "output_type": "execute_result"
    }
   ],
   "source": [
    "x = 3\n",
    "x ** 4 - 3*(x**2) - 8*x + 15"
   ]
  },
  {
   "cell_type": "markdown",
   "id": "eb337ff3",
   "metadata": {},
   "source": [
    "# Other advanced Built-in Object/Data Types\n",
    "\n",
    "## Lists"
   ]
  },
  {
   "cell_type": "code",
   "execution_count": 13,
   "id": "0c3e64ae",
   "metadata": {},
   "outputs": [
    {
     "data": {
      "text/plain": [
       "[1, 2, 3, 4]"
      ]
     },
     "execution_count": 13,
     "metadata": {},
     "output_type": "execute_result"
    }
   ],
   "source": [
    "test_list = [1,2,3,4]\n",
    "test_list"
   ]
  },
  {
   "cell_type": "code",
   "execution_count": 14,
   "id": "8dac9b90",
   "metadata": {},
   "outputs": [
    {
     "data": {
      "text/plain": [
       "list"
      ]
     },
     "execution_count": 14,
     "metadata": {},
     "output_type": "execute_result"
    }
   ],
   "source": [
    "type(test_list)"
   ]
  },
  {
   "cell_type": "markdown",
   "id": "908136d4",
   "metadata": {},
   "source": [
    "Unlike arrays in other programming languages,  list in python can contain multiple data types"
   ]
  },
  {
   "cell_type": "code",
   "execution_count": 15,
   "id": "d2a3b503",
   "metadata": {},
   "outputs": [
    {
     "data": {
      "text/plain": [
       "[1, 'Hello World', 3.14159, 'a']"
      ]
     },
     "execution_count": 15,
     "metadata": {},
     "output_type": "execute_result"
    }
   ],
   "source": [
    "test_list = [1, \"Hello World\", 3.14159, \"a\"]\n",
    "test_list"
   ]
  },
  {
   "cell_type": "markdown",
   "id": "22e9737b",
   "metadata": {},
   "source": [
    "- We can access the value in a particular index using square brackes `[]`. \n",
    "- Lists can also be defined based on previously defined variables, `**But be careful** when you define variables based on lists values because lists are mutable objects. **NOTE: the index starts at 0**"
   ]
  },
  {
   "cell_type": "code",
   "execution_count": 16,
   "id": "8e60b4dd",
   "metadata": {},
   "outputs": [
    {
     "name": "stdout",
     "output_type": "stream",
     "text": [
      "[6.49, 2.245, 12]\n",
      "12\n",
      "[5, 2.245, 12]\n",
      "12\n"
     ]
    }
   ],
   "source": [
    "sample_list = [sum_a_b, div_a_b, 12]\n",
    "\n",
    "print(sample_list)\n",
    "\n",
    "sum_a_b = sample_list[2]\n",
    "\n",
    "print(sum_a_b)\n",
    "\n",
    "sample_list[0] = 5\n",
    "\n",
    "print(sample_list)\n",
    "\n",
    "print(sum_a_b)\n"
   ]
  },
  {
   "cell_type": "code",
   "execution_count": 18,
   "id": "cffbaae2",
   "metadata": {},
   "outputs": [
    {
     "data": {
      "text/plain": [
       "5"
      ]
     },
     "execution_count": 18,
     "metadata": {},
     "output_type": "execute_result"
    }
   ],
   "source": [
    "sample_list[0] #first value within the list"
   ]
  },
  {
   "cell_type": "code",
   "execution_count": 19,
   "id": "4de3e94e",
   "metadata": {},
   "outputs": [
    {
     "data": {
      "text/plain": [
       "12"
      ]
     },
     "execution_count": 19,
     "metadata": {},
     "output_type": "execute_result"
    }
   ],
   "source": [
    "sample_list[2] #3rd object. "
   ]
  },
  {
   "cell_type": "markdown",
   "id": "ccd5f538",
   "metadata": {},
   "source": [
    "When counting from the right, Index starts at <mark>-1</mark>"
   ]
  },
  {
   "cell_type": "code",
   "execution_count": 20,
   "id": "85b30ad8",
   "metadata": {},
   "outputs": [
    {
     "data": {
      "text/plain": [
       "12"
      ]
     },
     "execution_count": 20,
     "metadata": {},
     "output_type": "execute_result"
    }
   ],
   "source": [
    "sample_list[-1]  "
   ]
  },
  {
   "cell_type": "markdown",
   "id": "fdc187a3",
   "metadata": {},
   "source": [
    "We can add elements to the list with concatenation using the `+` symbol.  We can also add new elements to the list using the `append` built-in *method*."
   ]
  },
  {
   "cell_type": "code",
   "execution_count": 41,
   "id": "ecca1d96",
   "metadata": {},
   "outputs": [
    {
     "data": {
      "text/plain": [
       "[5,\n",
       " 2.245,\n",
       " 12,\n",
       " 1,\n",
       " 'Hello World',\n",
       " 3.14159,\n",
       " 'a',\n",
       " 1,\n",
       " 'Hello World',\n",
       " 3.14159,\n",
       " 'a',\n",
       " 'new_item']"
      ]
     },
     "execution_count": 41,
     "metadata": {},
     "output_type": "execute_result"
    }
   ],
   "source": [
    "sample_list += test_list #same syntax as sample_list = sample_list + test_list\n",
    "sample_list.append(\"new_item\")\n",
    "sample_list"
   ]
  },
  {
   "cell_type": "markdown",
   "id": "536cd98a",
   "metadata": {},
   "source": [
    "We can get *slices* of lists in Python, that is, a chunk of the list "
   ]
  },
  {
   "cell_type": "code",
   "execution_count": 26,
   "id": "6587a840",
   "metadata": {},
   "outputs": [
    {
     "data": {
      "text/plain": [
       "[5, 2.245, 12, 1]"
      ]
     },
     "execution_count": 26,
     "metadata": {},
     "output_type": "execute_result"
    }
   ],
   "source": [
    "#Slicing , extracting subsets of a list\n",
    "sample_list[0:4]"
   ]
  },
  {
   "cell_type": "code",
   "execution_count": 28,
   "id": "c7014f56",
   "metadata": {},
   "outputs": [
    {
     "data": {
      "text/plain": [
       "[1, 'Hello World', 3.14159, 'a']"
      ]
     },
     "execution_count": 28,
     "metadata": {},
     "output_type": "execute_result"
    }
   ],
   "source": [
    "sample_list[3:] #From fourth index til the en of the list"
   ]
  },
  {
   "cell_type": "code",
   "execution_count": 30,
   "id": "51178048",
   "metadata": {},
   "outputs": [
    {
     "data": {
      "text/plain": [
       "[5, 2.245, 12]"
      ]
     },
     "execution_count": 30,
     "metadata": {},
     "output_type": "execute_result"
    }
   ],
   "source": [
    "sample_list[:3] #From the beginning of the list to the end of the list"
   ]
  },
  {
   "cell_type": "markdown",
   "id": "48b2c1ab",
   "metadata": {},
   "source": [
    ">**Question**: Let  $ A = \\begin{vmatrix}\n",
    " 2 & 3 \\\\\n",
    " 4 & 1 \\\\\n",
    "\\end{vmatrix}$ and $x =\\begin{vmatrix}\n",
    " 1 \\\\\n",
    " -1 \\\\\n",
    "\\end{vmatrix}$ compute the product $Ax$"
   ]
  },
  {
   "cell_type": "markdown",
   "id": "f5c0e731",
   "metadata": {},
   "source": [
    "# \"For\" loops"
   ]
  },
  {
   "cell_type": "code",
   "execution_count": 37,
   "id": "14ac6195",
   "metadata": {
    "scrolled": true
   },
   "outputs": [
    {
     "data": {
      "text/plain": [
       "[5, 2.245, 12, 1, 'Hello World', 3.14159, 'a']"
      ]
     },
     "execution_count": 37,
     "metadata": {},
     "output_type": "execute_result"
    }
   ],
   "source": [
    "a_list = sample_list\n",
    "a_list"
   ]
  },
  {
   "cell_type": "code",
   "execution_count": 42,
   "id": "cb8edf0a",
   "metadata": {},
   "outputs": [
    {
     "name": "stdout",
     "output_type": "stream",
     "text": [
      "[]\n",
      "5\n",
      "[10]\n",
      "2.245\n",
      "[10, 4.49]\n",
      "12\n",
      "[10, 4.49, 24]\n",
      "1\n",
      "[10, 4.49, 24, 2]\n",
      "Hello World\n",
      "[10, 4.49, 24, 2, 'Hello WorldHello World']\n",
      "3.14159\n",
      "[10, 4.49, 24, 2, 'Hello WorldHello World', 6.28318]\n",
      "a\n",
      "[10, 4.49, 24, 2, 'Hello WorldHello World', 6.28318, 'aa']\n",
      "1\n",
      "[10, 4.49, 24, 2, 'Hello WorldHello World', 6.28318, 'aa', 2]\n",
      "Hello World\n",
      "[10, 4.49, 24, 2, 'Hello WorldHello World', 6.28318, 'aa', 2, 'Hello WorldHello World']\n",
      "3.14159\n",
      "[10, 4.49, 24, 2, 'Hello WorldHello World', 6.28318, 'aa', 2, 'Hello WorldHello World', 6.28318]\n",
      "a\n",
      "[10, 4.49, 24, 2, 'Hello WorldHello World', 6.28318, 'aa', 2, 'Hello WorldHello World', 6.28318, 'aa']\n",
      "new_item\n",
      "[10, 4.49, 24, 2, 'Hello WorldHello World', 6.28318, 'aa', 2, 'Hello WorldHello World', 6.28318, 'aa', 'new_itemnew_item']\n",
      "[5, 2.245, 12, 1, 'Hello World', 3.14159, 'a', 1, 'Hello World', 3.14159, 'a', 'new_item']\n"
     ]
    }
   ],
   "source": [
    "new_list=[] ##empty list\n",
    "print(new_list)\n",
    "#Indentation 4 spaces\n",
    "for obj in a_list:\n",
    "    print(obj)\n",
    "    new_list.append(2*obj)     #Built-in method to insert elements in a list\n",
    "    print(new_list)  #contained in for loop, indented\n",
    "print(a_list) #not contained in for loop, not indented"
   ]
  },
  {
   "cell_type": "code",
   "execution_count": 39,
   "id": "198a64b6",
   "metadata": {},
   "outputs": [
    {
     "data": {
      "text/plain": [
       "[10, 4.49, 24, 2, 'Hello WorldHello World', 6.28318, 'aa']"
      ]
     },
     "execution_count": 39,
     "metadata": {},
     "output_type": "execute_result"
    }
   ],
   "source": [
    "new_list"
   ]
  },
  {
   "cell_type": "code",
   "execution_count": 40,
   "id": "b60e801f",
   "metadata": {
    "scrolled": true
   },
   "outputs": [
    {
     "data": {
      "text/plain": [
       "'a'"
      ]
     },
     "execution_count": 40,
     "metadata": {},
     "output_type": "execute_result"
    }
   ],
   "source": [
    "obj"
   ]
  },
  {
   "cell_type": "markdown",
   "id": "edd45797",
   "metadata": {},
   "source": [
    "# Conditional statements"
   ]
  },
  {
   "cell_type": "code",
   "execution_count": null,
   "id": "c53782ee",
   "metadata": {},
   "outputs": [
    {
     "name": "stdout",
     "output_type": "stream",
     "text": [
      "Value is less than 5\n"
     ]
    }
   ],
   "source": [
    "#comparison\n",
    "x = 3 #Assignment operation\n",
    "if x == 5:\n",
    "    print(\"Value is equal to 5\")\n",
    "#else if\n",
    "elif x < 5:\n",
    "        print(\"Value is less than 5\")\n",
    "else:\n",
    "    print(\"Value is greater than 5\")"
   ]
  },
  {
   "cell_type": "code",
   "execution_count": null,
   "id": "0ed50aed",
   "metadata": {},
   "outputs": [
    {
     "name": "stdout",
     "output_type": "stream",
     "text": [
      "2 is less than 5\n",
      "3 is less than 5\n",
      "47 is greater than 5\n",
      "9 is greater than 5\n",
      "4 is less than 5\n",
      "7 is greater than 5\n",
      "8 is greater than 5\n",
      "10 is greater than 5\n",
      "1 is less than 5\n",
      "6 is greater than 5\n",
      "5 is equal to 5\n"
     ]
    }
   ],
   "source": [
    "#Combine for loops and if else condition statements\n",
    "num_list = [2,3,47,9,4,7,8,10,1,6,5]\n",
    "y = 5\n",
    "\n",
    "for num in num_list:\n",
    "    if num == y:\n",
    "        #f-strings\n",
    "        print(f\"{num} is equal to {y}\")\n",
    "    elif num < y:\n",
    "        print(f\"{num} is less than {y}\")\n",
    "    else:\n",
    "        print(f\"{num} is greater than {y}\")"
   ]
  },
  {
   "cell_type": "markdown",
   "id": "e481c178",
   "metadata": {},
   "source": [
    "List Comprehensions"
   ]
  },
  {
   "cell_type": "code",
   "execution_count": null,
   "id": "682ea1b4",
   "metadata": {},
   "outputs": [
    {
     "name": "stdout",
     "output_type": "stream",
     "text": [
      "12.98\n",
      "4.98\n",
      "17.96\n",
      "4.49\n",
      "4.0\n",
      "0.9800000000000004\n",
      "40.32020000000001\n"
     ]
    }
   ],
   "source": [
    "#typical for loop\n",
    "for num in a_list:\n",
    "    print(num*2)"
   ]
  },
  {
   "cell_type": "code",
   "execution_count": null,
   "id": "d212ea56",
   "metadata": {},
   "outputs": [
    {
     "name": "stdout",
     "output_type": "stream",
     "text": [
      "12.98\n",
      "4.98\n",
      "17.96\n",
      "4.49\n",
      "4.0\n",
      "0.9800000000000004\n",
      "40.32020000000001\n"
     ]
    },
    {
     "data": {
      "text/plain": [
       "[None, None, None, None, None, None, None]"
      ]
     },
     "execution_count": 147,
     "metadata": {},
     "output_type": "execute_result"
    }
   ],
   "source": [
    "#list comprehension\n",
    "[print(num*2) for num in a_list]"
   ]
  },
  {
   "cell_type": "code",
   "execution_count": null,
   "id": "6faa1e50",
   "metadata": {},
   "outputs": [
    {
     "data": {
      "text/plain": [
       "[19.47,\n",
       " 7.470000000000001,\n",
       " 26.94,\n",
       " 6.735,\n",
       " 6.0,\n",
       " 1.4700000000000006,\n",
       " 60.480300000000014]"
      ]
     },
     "execution_count": 154,
     "metadata": {},
     "output_type": "execute_result"
    }
   ],
   "source": [
    "new_list1 = [num*3 for num in a_list]\n",
    "new_list1"
   ]
  },
  {
   "cell_type": "code",
   "execution_count": null,
   "id": "805b6470",
   "metadata": {},
   "outputs": [],
   "source": [
    "new_list1 = [num*1.5 for num in new_list1]\n"
   ]
  },
  {
   "cell_type": "code",
   "execution_count": null,
   "id": "f9d725ac",
   "metadata": {},
   "outputs": [
    {
     "data": {
      "text/plain": [
       "[29.205,\n",
       " 11.205000000000002,\n",
       " 40.410000000000004,\n",
       " 10.102500000000001,\n",
       " 9.0,\n",
       " 2.205000000000001,\n",
       " 90.72045000000003]"
      ]
     },
     "execution_count": 156,
     "metadata": {},
     "output_type": "execute_result"
    }
   ],
   "source": [
    "new_list1"
   ]
  }
 ],
 "metadata": {
  "kernelspec": {
   "display_name": "barcodebert",
   "language": "python",
   "name": "python3"
  },
  "language_info": {
   "codemirror_mode": {
    "name": "ipython",
    "version": 3
   },
   "file_extension": ".py",
   "mimetype": "text/x-python",
   "name": "python",
   "nbconvert_exporter": "python",
   "pygments_lexer": "ipython3",
   "version": "3.11.9"
  }
 },
 "nbformat": 4,
 "nbformat_minor": 5
}
