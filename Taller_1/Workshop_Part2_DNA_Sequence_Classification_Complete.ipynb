{
 "cells": [
  {
   "cell_type": "markdown",
   "id": "c299ea74",
   "metadata": {},
   "source": [
    "\n",
    "# Workshop 1: Introduction to PyTorch and Deep Learning on DNA Sequences\n",
    "\n",
    "Welcome to this workshop! In this session, you'll learn how to use PyTorch to build, train, and evaluate neural networks for taxonomic classification of DNA sequences.\n",
    "The workshop is structured into two main parts:\n",
    "\n",
    "1. **Introduction to PyTorch**: Covering tensors, the `nn` module, a toy dataset, and building a training loop.\n",
    "2. **DNA Sequence Classification**: Loading and processing DNA sequences from a FASTA file, exploring sequence data, computing k-mers, and building a neural network for classification.\n",
    "\n",
    "---\n",
    "\n",
    "Let's get started! Make sure you have PyTorch installed to run the code cells in this notebook.\n"
   ]
  },
  {
   "cell_type": "markdown",
   "id": "e09af4b3",
   "metadata": {},
   "source": [
    "\n",
    "## Part 1: Introduction to PyTorch\n",
    "\n",
    "In this part, we'll learn the fundamentals of PyTorch, starting with tensors, the building blocks for any deep learning framework.\n"
   ]
  },
  {
   "cell_type": "markdown",
   "id": "596d5bc7",
   "metadata": {},
   "source": [
    "\n",
    "### 1.1 Tensors and PyTorch Basics\n",
    "\n",
    "Tensors are multi-dimensional arrays and are the primary data structure in PyTorch. You can think of them as similar to NumPy arrays, but they are optimized for GPU operations.\n",
    "\n",
    "Let's create some basic tensors and perform operations on them.\n"
   ]
  },
  {
   "cell_type": "code",
   "execution_count": 1,
   "id": "8b2bda1c",
   "metadata": {},
   "outputs": [
    {
     "name": "stdout",
     "output_type": "stream",
     "text": [
      "Tensor A:\n",
      " tensor([[1, 2],\n",
      "        [3, 4]])\n",
      "\n",
      "Random Tensor:\n",
      " tensor([[0.3419, 0.3777, 0.2065],\n",
      "        [0.0987, 0.0702, 0.2707],\n",
      "        [0.4607, 0.2155, 0.4208]])\n",
      "\n",
      "Sum of Tensors:\n",
      " tensor([[2, 4],\n",
      "        [6, 8]])\n"
     ]
    }
   ],
   "source": [
    "\n",
    "import torch\n",
    "\n",
    "# Create a tensor\n",
    "tensor_a = torch.tensor([[1, 2], [3, 4]])\n",
    "print(\"Tensor A:\\n\", tensor_a)\n",
    "\n",
    "# Creating a random tensor\n",
    "random_tensor = torch.rand((3, 3))\n",
    "print(\"\\nRandom Tensor:\\n\", random_tensor)\n",
    "\n",
    "# Basic tensor operations\n",
    "sum_tensor = tensor_a + tensor_a\n",
    "print(\"\\nSum of Tensors:\\n\", sum_tensor)"
   ]
  },
  {
   "cell_type": "markdown",
   "id": "fd6f6909",
   "metadata": {},
   "source": [
    ">### Exercise: Create your own tensors and try different operations!"
   ]
  },
  {
   "cell_type": "markdown",
   "id": "e5b6a837",
   "metadata": {},
   "source": [
    "\n",
    "### Additional Tensor Operations: Reshaping, Slicing, and Element-wise Operations\n",
    "\n",
    "In this section, we'll explore a few more tensor operations that are commonly used in deep learning workflows.\n",
    "\n",
    "#### Reshaping\n",
    "PyTorch provides ways to change the shape of a tensor without altering its data, such as using `.view()` or `.reshape()`.\n",
    "\n",
    "#### Slicing and Indexing\n",
    "You can select parts of tensors using slicing, similar to how you would slice arrays in NumPy.\n",
    "\n",
    "#### Element-wise Operations\n",
    "PyTorch supports element-wise operations, such as addition, subtraction, multiplication, etc.\n"
   ]
  },
  {
   "cell_type": "code",
   "execution_count": 2,
   "id": "6ac6014e",
   "metadata": {},
   "outputs": [
    {
     "name": "stdout",
     "output_type": "stream",
     "text": [
      "Original Tensor: tensor([ 0,  1,  2,  3,  4,  5,  6,  7,  8,  9, 10, 11, 12, 13, 14, 15])\n",
      "Reshaped Tensor (4x4):\n",
      " tensor([[ 0,  1,  2,  3],\n",
      "        [ 4,  5,  6,  7],\n",
      "        [ 8,  9, 10, 11],\n",
      "        [12, 13, 14, 15]])\n",
      "\n",
      "Selecting the first row: tensor([0, 1, 2, 3])\n",
      "Selecting the first column: tensor([ 0,  4,  8, 12])\n",
      "Selecting a sub-tensor:\n",
      " tensor([[ 5,  6],\n",
      "        [ 9, 10]])\n",
      "\n",
      "Tensor B:\n",
      " tensor([[2, 2, 2, 2],\n",
      "        [3, 3, 3, 3],\n",
      "        [4, 4, 4, 4],\n",
      "        [5, 5, 5, 5]])\n",
      "\n",
      "Element-wise Addition:\n",
      " tensor([[ 2,  3,  4,  5],\n",
      "        [ 7,  8,  9, 10],\n",
      "        [12, 13, 14, 15],\n",
      "        [17, 18, 19, 20]])\n",
      "Element-wise Multiplication:\n",
      " tensor([[ 0,  2,  4,  6],\n",
      "        [12, 15, 18, 21],\n",
      "        [32, 36, 40, 44],\n",
      "        [60, 65, 70, 75]])\n"
     ]
    }
   ],
   "source": [
    "\n",
    "# Reshaping Tensors\n",
    "tensor_a = torch.arange(16)  # Create a 1D tensor with values 0 to 15\n",
    "print(\"Original Tensor:\", tensor_a)\n",
    "\n",
    "reshaped_tensor = tensor_a.view(4, 4)  # Reshape to 4x4\n",
    "print(\"Reshaped Tensor (4x4):\\n\", reshaped_tensor)\n",
    "\n",
    "# Slicing and Indexing\n",
    "print(\"\\nSelecting the first row:\", reshaped_tensor[0])         # Select first row\n",
    "print(\"Selecting the first column:\", reshaped_tensor[:, 0])      # Select first column\n",
    "print(\"Selecting a sub-tensor:\\n\", reshaped_tensor[1:3, 1:3])  # Select a 2x2 sub-tensor\n",
    "\n",
    "# Element-wise Operations\n",
    "tensor_b = torch.tensor([[2, 2, 2, 2], [3, 3, 3, 3], [4, 4, 4, 4], [5, 5, 5, 5]])\n",
    "print(\"\\nTensor B:\\n\", tensor_b)\n",
    "\n",
    "added_tensor = reshaped_tensor + tensor_b\n",
    "print(\"\\nElement-wise Addition:\\n\", added_tensor)\n",
    "\n",
    "multiplied_tensor = reshaped_tensor * tensor_b\n",
    "print(\"Element-wise Multiplication:\\n\", multiplied_tensor)"
   ]
  },
  {
   "cell_type": "markdown",
   "id": "e94fe274",
   "metadata": {},
   "source": [
    "> ### Exercise: Try reshaping, slicing, and performing element-wise operations with different dimensions!"
   ]
  },
  {
   "cell_type": "markdown",
   "id": "f137a298",
   "metadata": {},
   "source": [
    "\n",
    "### 1.2 The `nn` Module and Building a Simple Neural Network\n",
    "\n",
    "PyTorch provides the `torch.nn` module to help define neural networks. Let's define a simple fully connected neural network and explore its components.\n",
    "\n",
    "Below is a simple feed-forward neural network with a couple of layers. We'll define this model and briefly discuss the components.\n"
   ]
  },
  {
   "cell_type": "code",
   "execution_count": 3,
   "id": "fbd25afd",
   "metadata": {},
   "outputs": [
    {
     "name": "stdout",
     "output_type": "stream",
     "text": [
      "SimpleNN(\n",
      "  (fc1): Linear(in_features=10, out_features=20, bias=True)\n",
      "  (relu): ReLU()\n",
      "  (fc2): Linear(in_features=20, out_features=3, bias=True)\n",
      ")\n"
     ]
    }
   ],
   "source": [
    "\n",
    "import torch.nn as nn\n",
    "\n",
    "# Define a simple neural network\n",
    "class SimpleNN(nn.Module):\n",
    "    def __init__(self, input_size, hidden_size, num_classes):\n",
    "        super(SimpleNN, self).__init__()\n",
    "        self.fc1 = nn.Linear(input_size, hidden_size) \n",
    "        self.relu = nn.ReLU()\n",
    "        self.fc2 = nn.Linear(hidden_size, num_classes)  \n",
    "    \n",
    "    def forward(self, x):\n",
    "        out = self.fc1(x)\n",
    "        out = self.relu(out)\n",
    "        out = self.fc2(out)\n",
    "        return out\n",
    "\n",
    "# Initialize the model\n",
    "model = SimpleNN(input_size=10, hidden_size=20, num_classes=3)\n",
    "print(model)\n"
   ]
  },
  {
   "cell_type": "markdown",
   "id": "fe39c088",
   "metadata": {},
   "source": [
    "\n",
    "### 1.3 Creating a Toy Dataset\n",
    "\n",
    "Let's create a small random dataset for classification. This will help us understand how the training loop and loss function work.\n"
   ]
  },
  {
   "cell_type": "code",
   "execution_count": 4,
   "id": "55e78829",
   "metadata": {},
   "outputs": [
    {
     "name": "stdout",
     "output_type": "stream",
     "text": [
      "Sample batch: [tensor([[-3.8080e-01, -2.1356e-03,  8.1096e-01, -1.8996e+00,  8.4224e-02,\n",
      "         -2.5316e+00,  9.5041e-01,  1.2297e+00, -2.1863e+00,  6.1889e-01],\n",
      "        [ 1.4225e+00, -6.4338e-01, -3.1275e+00,  2.1705e+00, -1.0950e+00,\n",
      "          5.8291e-01, -1.7202e+00, -7.3819e-01, -1.6831e+00, -1.4407e+00],\n",
      "        [-1.4680e+00, -7.4585e-01,  1.6721e+00, -2.2160e+00,  2.1608e+00,\n",
      "         -5.9191e-01,  3.2951e-01, -1.3191e+00,  1.6106e+00, -3.8513e-01],\n",
      "        [-8.9634e-02,  6.7160e-01,  4.3028e-02,  1.8721e+00, -6.0660e-02,\n",
      "          3.0383e+00, -8.3419e-01, -2.5616e+00,  2.3328e+00,  1.6661e-03],\n",
      "        [-2.4882e+00,  5.8942e-01,  1.7997e+00,  3.1415e-01,  3.9802e+00,\n",
      "          8.5156e-02,  7.1867e-01,  1.4972e+00,  4.0995e+00, -1.3317e+00],\n",
      "        [ 7.9621e-01,  4.9196e-01,  8.5864e-02, -7.2046e-01, -6.0964e-01,\n",
      "         -2.0936e+00, -1.1053e-01,  1.7644e+00, -1.2465e-01,  4.8280e-01],\n",
      "        [-1.3949e+00, -2.5379e-01, -1.6233e-01, -2.7198e+00,  3.6985e+00,\n",
      "          6.0304e-01,  1.1970e-01,  1.3385e+00,  3.0670e+00, -3.0139e+00],\n",
      "        [ 2.3123e+00,  5.4674e-01, -1.5524e+00,  8.2866e-01, -1.5995e+00,\n",
      "          1.2772e+00,  5.3440e-01, -9.3159e-01,  2.9072e+00, -3.4286e-01],\n",
      "        [ 1.8773e+00,  9.8708e-02, -2.6497e+00,  6.2748e-01, -1.2749e+00,\n",
      "          1.1809e+00, -5.0554e-01,  8.7131e-01,  9.7046e-02, -1.2649e+00],\n",
      "        [-3.9608e-01,  6.0194e-02, -1.2384e+00,  7.3914e-01,  4.1710e-01,\n",
      "          2.2752e+00,  3.5764e-01, -8.3237e-01, -7.6584e-01, -1.2213e+00]]), tensor([0, 0, 2, 1, 2, 0, 2, 1, 1, 1])]\n"
     ]
    }
   ],
   "source": [
    "\n",
    "from sklearn.datasets import make_classification\n",
    "import torch\n",
    "from torch.utils.data import TensorDataset, DataLoader\n",
    "\n",
    "# Generate a toy dataset with 3 classes\n",
    "X, y = make_classification(n_samples=100, n_features=10, n_classes=3, n_informative=5)\n",
    "X_tensor = torch.tensor(X, dtype=torch.float32)\n",
    "y_tensor = torch.tensor(y, dtype=torch.long)\n",
    "\n",
    "# Create a DataLoader for batching\n",
    "dataset = TensorDataset(X_tensor, y_tensor)\n",
    "dataloader = DataLoader(dataset, batch_size=10, shuffle=True)\n",
    "\n",
    "# Print a sample batch\n",
    "for batch in dataloader:\n",
    "    print(\"Sample batch:\", batch)\n",
    "    break\n"
   ]
  },
  {
   "cell_type": "markdown",
   "id": "efa87caa",
   "metadata": {},
   "source": [
    "\n",
    "### 1.4 Setting Up a Training Loop with Cross-Entropy Loss\n",
    "\n",
    "The training loop involves feeding data into the model, computing the loss, performing backpropagation, and updating model parameters.\n",
    "\n",
    "#### Understanding Cross-Entropy Loss\n",
    "Cross-entropy loss is commonly used for classification tasks. It calculates the difference between the predicted probability distribution and the true distribution.\n",
    "\n",
    "Let's set up the training loop using cross-entropy loss.\n"
   ]
  },
  {
   "cell_type": "code",
   "execution_count": 5,
   "id": "e82c2e3f",
   "metadata": {},
   "outputs": [
    {
     "name": "stdout",
     "output_type": "stream",
     "text": [
      "Epoch [1/5], Loss: 1.1347\n",
      "Epoch [2/5], Loss: 1.1040\n",
      "Epoch [3/5], Loss: 1.0667\n",
      "Epoch [4/5], Loss: 1.0530\n",
      "Epoch [5/5], Loss: 1.0809\n"
     ]
    }
   ],
   "source": [
    "\n",
    "# Set up the loss and optimizer\n",
    "criterion = nn.CrossEntropyLoss()\n",
    "optimizer = torch.optim.Adam(model.parameters(), lr=0.001)\n",
    "\n",
    "# Training loop\n",
    "num_epochs = 5\n",
    "for epoch in range(num_epochs):\n",
    "    for inputs, labels in dataloader:\n",
    "        # Forward pass\n",
    "        outputs = model(inputs)\n",
    "        loss = criterion(outputs, labels)\n",
    "        \n",
    "        # Backward pass and optimization\n",
    "        optimizer.zero_grad()\n",
    "        loss.backward()\n",
    "        optimizer.step()\n",
    "    \n",
    "    print(f\"Epoch [{epoch+1}/{num_epochs}], Loss: {loss.item():.4f}\")\n"
   ]
  },
  {
   "cell_type": "markdown",
   "id": "7d3cb474",
   "metadata": {},
   "source": [
    "\n",
    "## Part 2: DNA Sequence Classification\n",
    "\n",
    "In this part, we'll work with a FASTA file containing DNA sequences. We'll preprocess the sequences, extract k-mer frequencies, and train a neural network to classify them.\n"
   ]
  },
  {
   "cell_type": "markdown",
   "id": "90d0681b",
   "metadata": {},
   "source": [
    "\n",
    "### 2.1 Reading and Exploring the FASTA Dataset\n",
    "\n",
    "We'll start by reading a FASTA file and extracting the DNA sequences and taxonomic labels from each entry.\n",
    "\n",
    "The headers in the file are of the form `>sample_i|taxonomic_class`. We'll parse the file, extract the classes, and explore the data distribution.\n"
   ]
  },
  {
   "cell_type": "code",
   "execution_count": 6,
   "id": "65cba63f",
   "metadata": {},
   "outputs": [
    {
     "data": {
      "image/png": "[encoded data removed]",
      "text/plain": [
       "<Figure size 1000x600 with 1 Axes>"
      ]
     },
     "metadata": {},
     "output_type": "display_data"
    },
    {
     "data": {
      "image/png": "[encoded data removed]",
      "text/plain": [
       "<Figure size 1000x600 with 1 Axes>"
      ]
     },
     "metadata": {},
     "output_type": "display_data"
    }
   ],
   "source": [
    "from Bio import SeqIO\n",
    "import matplotlib.pyplot as plt\n",
    "from collections import Counter\n",
    "\n",
    "# Read and parse the FASTA file\n",
    "fasta_file = \"HIV_data/train_data.fasta\"  # Replace with your file path\n",
    "sequences = []\n",
    "labels = []\n",
    "\n",
    "for record in SeqIO.parse(fasta_file, \"fasta\"):\n",
    "    sequences.append(str(record.seq))\n",
    "    label = record.description.split('|')[1]  # Extract the taxonomic class\n",
    "    labels.append(label)\n",
    "\n",
    "# Plot the distribution of labels\n",
    "label_counts = Counter(labels)\n",
    "plt.figure(figsize=(10, 6))\n",
    "plt.bar(label_counts.keys(), label_counts.values())\n",
    "plt.xlabel('Taxonomic Class')\n",
    "plt.ylabel('Frequency')\n",
    "plt.title('Distribution of Taxonomic Classes')\n",
    "plt.show()\n",
    "\n",
    "# Plot the distribution of sequence lengths\n",
    "sequence_lengths = [len(seq) for seq in sequences]\n",
    "plt.figure(figsize=(10, 6))\n",
    "plt.hist(sequence_lengths, bins=20, edgecolor='black')\n",
    "plt.xlabel('Sequence Length')\n",
    "plt.ylabel('Frequency')\n",
    "plt.title('Distribution of Sequence Lengths')\n",
    "plt.show()\n"
   ]
  },
  {
   "cell_type": "markdown",
   "id": "a6fb5014",
   "metadata": {},
   "source": [
    "\n",
    "### 2.2 Preprocessing DNA Sequences: Computing K-mer Frequencies\n",
    "\n",
    "K-mer frequencies can be used as input features for classification models. Let's compute the k-mer frequencies for each DNA sequence.\n"
   ]
  },
  {
   "cell_type": "code",
   "execution_count": null,
   "id": "ca018639",
   "metadata": {},
   "outputs": [],
   "source": [
    "\n",
    "from itertools import product\n",
    "\n",
    "# Function to calculate k-mer frequency\n",
    "def kmer_frequency(sequence, k=3):\n",
    "    kmers = [''.join(p) for p in product('ACGT', repeat=k)]\n",
    "    freq_dict = {kmer: 0 for kmer in kmers}\n",
    "    \n",
    "    for i in range(len(sequence) - k + 1):\n",
    "        kmer = sequence[i:i+k]\n",
    "        if kmer in freq_dict:\n",
    "            freq_dict[kmer] += 1\n",
    "    \n",
    "    total_kmers = sum(freq_dict.values())\n",
    "    return [freq_dict[kmer] / total_kmers for kmer in kmers]  # Normalize frequencies\n",
    "\n",
    "# Compute k-mer frequencies for each sequence\n",
    "k = 3  # Set k\n",
    "features = [kmer_frequency(seq, k) for seq in sequences]\n"
   ]
  },
  {
   "cell_type": "markdown",
   "id": "060757cc",
   "metadata": {},
   "source": [
    "\n",
    "### 2.3 Defining and Training the Neural Network\n",
    "\n",
    "With the k-mer frequency features, we'll design a fully connected neural network for taxonomic classification using the architecture provided.\n",
    "\n",
    "#### Model Architecture: `Net_linear`\n",
    "This model includes three fully connected layers with ReLU activations and Dropout for regularization. The final layer uses Softmax to output class probabilities.\n"
   ]
  },
  {
   "cell_type": "code",
   "execution_count": 8,
   "id": "59a4c2df",
   "metadata": {},
   "outputs": [
    {
     "name": "stdout",
     "output_type": "stream",
     "text": [
      "Net_linear(\n",
      "  (classifier): Sequential(\n",
      "    (0): Linear(in_features=4096, out_features=512, bias=True)\n",
      "    (1): ReLU()\n",
      "    (2): Dropout(p=0.5, inplace=False)\n",
      "    (3): Linear(in_features=512, out_features=64, bias=True)\n",
      "    (4): ReLU()\n",
      "    (5): Dropout(p=0.5, inplace=False)\n",
      "    (6): Linear(in_features=64, out_features=13, bias=True)\n",
      "    (7): Softmax(dim=1)\n",
      "  )\n",
      ")\n"
     ]
    }
   ],
   "source": [
    "\n",
    "import torch.nn as nn\n",
    "import torch\n",
    "\n",
    "# Define the Net_linear model\n",
    "class Net_linear(nn.Module):\n",
    "    def __init__(self, n_input, n_output):\n",
    "        super(Net_linear, self).__init__()\n",
    "        self.classifier = nn.Sequential(\n",
    "            nn.Linear(n_input, 512),\n",
    "            nn.ReLU(),\n",
    "            nn.Dropout(p=0.5),\n",
    "            nn.Linear(512, 64),\n",
    "            nn.ReLU(),\n",
    "            nn.Dropout(p=0.5),\n",
    "            nn.Linear(64, n_output),\n",
    "            nn.Softmax(dim=1)\n",
    "        )\n",
    "\n",
    "    def forward(self, x):\n",
    "        x = x.view(-1, n_input)  # Ensure input is flattened if necessary\n",
    "        out = self.classifier(x)\n",
    "        return out\n",
    "\n",
    "# Define input and output dimensions\n",
    "n_input = len(features[0])  # Based on k-mer feature size\n",
    "n_output = len(set(labels))  # Number of unique classes\n",
    "\n",
    "# Initialize the model\n",
    "model = Net_linear(n_input=n_input, n_output=n_output)\n",
    "print(model)\n"
   ]
  },
  {
   "cell_type": "code",
   "execution_count": 9,
   "id": "b723ae07",
   "metadata": {},
   "outputs": [
    {
     "name": "stdout",
     "output_type": "stream",
     "text": [
      "Epoch [1/100], Loss: 2.5638\n",
      "Epoch [2/100], Loss: 2.5608\n",
      "Epoch [3/100], Loss: 2.5672\n",
      "Epoch [4/100], Loss: 2.4908\n",
      "Epoch [5/100], Loss: 2.4405\n",
      "Epoch [6/100], Loss: 2.5657\n",
      "Epoch [7/100], Loss: 2.4418\n",
      "Epoch [8/100], Loss: 2.3936\n",
      "Epoch [9/100], Loss: 2.4134\n",
      "Epoch [10/100], Loss: 2.2699\n",
      "Epoch [11/100], Loss: 2.4927\n",
      "Epoch [12/100], Loss: 2.3587\n",
      "Epoch [13/100], Loss: 2.3324\n",
      "Epoch [14/100], Loss: 2.3115\n",
      "Epoch [15/100], Loss: 2.0589\n",
      "Epoch [16/100], Loss: 2.2674\n",
      "Epoch [17/100], Loss: 2.4133\n",
      "Epoch [18/100], Loss: 2.1313\n",
      "Epoch [19/100], Loss: 2.1630\n",
      "Epoch [20/100], Loss: 2.0403\n",
      "Epoch [21/100], Loss: 2.1454\n",
      "Epoch [22/100], Loss: 2.0681\n",
      "Epoch [23/100], Loss: 2.1137\n",
      "Epoch [24/100], Loss: 2.1560\n",
      "Epoch [25/100], Loss: 2.2619\n",
      "Epoch [26/100], Loss: 2.0454\n",
      "Epoch [27/100], Loss: 2.0179\n",
      "Epoch [28/100], Loss: 1.8624\n",
      "Epoch [29/100], Loss: 2.1153\n",
      "Epoch [30/100], Loss: 2.3355\n",
      "Epoch [31/100], Loss: 2.1000\n",
      "Epoch [32/100], Loss: 2.0795\n",
      "Epoch [33/100], Loss: 2.0293\n",
      "Epoch [34/100], Loss: 1.8400\n",
      "Epoch [35/100], Loss: 2.1934\n",
      "Epoch [36/100], Loss: 2.1408\n",
      "Epoch [37/100], Loss: 2.0453\n",
      "Epoch [38/100], Loss: 2.0168\n",
      "Epoch [39/100], Loss: 1.8558\n",
      "Epoch [40/100], Loss: 1.9994\n",
      "Epoch [41/100], Loss: 2.0464\n",
      "Epoch [42/100], Loss: 2.1928\n",
      "Epoch [43/100], Loss: 2.1372\n",
      "Epoch [44/100], Loss: 2.0662\n",
      "Epoch [45/100], Loss: 2.0678\n",
      "Epoch [46/100], Loss: 1.9719\n",
      "Epoch [47/100], Loss: 2.0281\n",
      "Epoch [48/100], Loss: 1.8854\n",
      "Epoch [49/100], Loss: 1.9792\n",
      "Epoch [50/100], Loss: 2.0310\n",
      "Epoch [51/100], Loss: 1.9464\n",
      "Epoch [52/100], Loss: 2.1021\n",
      "Epoch [53/100], Loss: 2.0284\n",
      "Epoch [54/100], Loss: 1.9065\n",
      "Epoch [55/100], Loss: 1.9333\n",
      "Epoch [56/100], Loss: 1.8049\n",
      "Epoch [57/100], Loss: 1.9951\n",
      "Epoch [58/100], Loss: 2.0072\n",
      "Epoch [59/100], Loss: 1.9063\n",
      "Epoch [60/100], Loss: 1.9483\n",
      "Epoch [61/100], Loss: 1.9703\n",
      "Epoch [62/100], Loss: 1.9378\n",
      "Epoch [63/100], Loss: 1.9503\n",
      "Epoch [64/100], Loss: 1.8641\n",
      "Epoch [65/100], Loss: 1.9809\n",
      "Epoch [66/100], Loss: 1.9936\n",
      "Epoch [67/100], Loss: 1.9084\n",
      "Epoch [68/100], Loss: 1.9407\n",
      "Epoch [69/100], Loss: 2.1062\n",
      "Epoch [70/100], Loss: 1.7419\n",
      "Epoch [71/100], Loss: 1.9292\n",
      "Epoch [72/100], Loss: 1.9467\n",
      "Epoch [73/100], Loss: 1.8472\n",
      "Epoch [74/100], Loss: 1.8502\n",
      "Epoch [75/100], Loss: 1.9234\n",
      "Epoch [76/100], Loss: 2.0999\n",
      "Epoch [77/100], Loss: 1.7876\n",
      "Epoch [78/100], Loss: 1.8034\n",
      "Epoch [79/100], Loss: 1.7848\n",
      "Epoch [80/100], Loss: 1.9573\n",
      "Epoch [81/100], Loss: 1.9685\n",
      "Epoch [82/100], Loss: 2.1328\n",
      "Epoch [83/100], Loss: 1.9061\n",
      "Epoch [84/100], Loss: 1.8783\n",
      "Epoch [85/100], Loss: 2.0694\n",
      "Epoch [86/100], Loss: 1.9453\n",
      "Epoch [87/100], Loss: 1.9943\n",
      "Epoch [88/100], Loss: 1.7114\n",
      "Epoch [89/100], Loss: 2.0587\n",
      "Epoch [90/100], Loss: 2.0154\n",
      "Epoch [91/100], Loss: 1.9972\n",
      "Epoch [92/100], Loss: 1.9124\n",
      "Epoch [93/100], Loss: 1.8574\n",
      "Epoch [94/100], Loss: 1.8818\n",
      "Epoch [95/100], Loss: 1.8219\n",
      "Epoch [96/100], Loss: 1.8699\n",
      "Epoch [97/100], Loss: 1.7695\n",
      "Epoch [98/100], Loss: 1.8306\n",
      "Epoch [99/100], Loss: 1.7188\n",
      "Epoch [100/100], Loss: 2.0073\n"
     ]
    }
   ],
   "source": [
    "\n",
    "# Set up the criterion and optimizer\n",
    "criterion = nn.CrossEntropyLoss()\n",
    "optimizer = torch.optim.Adam(model.parameters(), lr=0.005)\n",
    "\n",
    "# Convert features and labels to tensors and create DataLoader\n",
    "# Mapping labels to integers\n",
    "label_map = {label: idx for idx, label in enumerate(set(labels))}\n",
    "mapped_labels = [label_map[lbl] for lbl in labels]\n",
    "\n",
    "features_tensor = torch.tensor(features, dtype=torch.float32)\n",
    "labels_tensor = torch.tensor(mapped_labels, dtype=torch.long)\n",
    "dataset = TensorDataset(features_tensor, labels_tensor)\n",
    "dataloader = DataLoader(dataset, batch_size=16, shuffle=True)\n",
    "\n",
    "# Training loop\n",
    "num_epochs = 100\n",
    "for epoch in range(num_epochs):\n",
    "    for inputs, targets in dataloader:\n",
    "        # Forward pass\n",
    "        outputs = model(inputs)\n",
    "        loss = criterion(outputs, targets)\n",
    "        \n",
    "        # Backward pass and optimization\n",
    "        optimizer.zero_grad()\n",
    "        loss.backward()\n",
    "        optimizer.step()\n",
    "    \n",
    "    print(f\"Epoch [{epoch+1}/{num_epochs}], Loss: {loss.item():.4f}\")\n",
    "\n",
    "# Note: This model can be tuned further by adjusting batch size, learning rate, or Dropout rates\n"
   ]
  },
  {
   "cell_type": "markdown",
   "id": "91566c3e",
   "metadata": {},
   "source": [
    "\n",
    "### 2.4 Evaluating on the Test Set\n",
    "\n",
    "After training, it's important to evaluate the model on a separate test set to understand its performance on unseen data.\n",
    "\n",
    "We'll split our dataset further or use a held-out test set to compute accuracy, plot a confusion matrix, and evaluate other metrics if necessary.\n"
   ]
  },
  {
   "cell_type": "code",
   "execution_count": 10,
   "id": "2c69c783",
   "metadata": {},
   "outputs": [
    {
     "name": "stdout",
     "output_type": "stream",
     "text": [
      "Test Accuracy: 0.9313\n"
     ]
    },
    {
     "data": {
      "text/plain": [
       "<sklearn.metrics._plot.confusion_matrix.ConfusionMatrixDisplay at 0x7f5d4c882490>"
      ]
     },
     "execution_count": 10,
     "metadata": {},
     "output_type": "execute_result"
    },
    {
     "data": {
      "image/png": "[encoded data removed]",
      "text/plain": [
       "<Figure size 640x480 with 2 Axes>"
      ]
     },
     "metadata": {},
     "output_type": "display_data"
    }
   ],
   "source": [
    "\n",
    "from sklearn.metrics import accuracy_score, confusion_matrix, ConfusionMatrixDisplay\n",
    "import pandas as pd\n",
    "\n",
    "\n",
    "fasta_file = \"HIV_data/val_data.fasta\"  # Replace with your file path\n",
    "sequences = []\n",
    "ids = []\n",
    "\n",
    "for record in SeqIO.parse(fasta_file, \"fasta\"):\n",
    "    sequences.append(str(record.seq))\n",
    "    label = record.description[0]  # Extract the tid\n",
    "    ids.append(label)\n",
    "\n",
    "val_features = [kmer_frequency(seq, k) for seq in sequences]\n",
    "val_labels = pd.read_csv(\"HIV_data/val_taxonomy.csv\")[\"taxonomy\"].to_list()\n",
    "mapped_val_labels = [label_map[lbl] for lbl in val_labels]\n",
    "\n",
    "val_features = torch.tensor(val_features, dtype=torch.float32)\n",
    "val_labels_tensor = torch.tensor(mapped_val_labels, dtype=torch.long)\n",
    "\n",
    "# Create DataLoader for test set\n",
    "test_dataset = TensorDataset(val_features, val_labels_tensor)\n",
    "test_loader = DataLoader(test_dataset, batch_size=32, shuffle=False)\n",
    "\n",
    "# Evaluation\n",
    "model.eval()  # Set model to evaluation mode\n",
    "all_preds = []\n",
    "all_labels = []\n",
    "\n",
    "with torch.no_grad():\n",
    "    for inputs, targets in test_loader:\n",
    "        outputs = model(inputs)\n",
    "        _, predicted = torch.max(outputs, 1)\n",
    "        all_preds.extend(predicted.numpy())\n",
    "        all_labels.extend(targets.numpy())\n",
    "\n",
    "# Calculate accuracy\n",
    "accuracy = accuracy_score(all_labels, all_preds)\n",
    "print(f\"Test Accuracy: {accuracy:.4f}\")\n",
    "\n",
    "# Plot confusion matrix\n",
    "cm = confusion_matrix(all_labels, all_preds)\n",
    "disp = ConfusionMatrixDisplay(confusion_matrix=cm)\n",
    "disp.plot(cmap=\"Blues\")\n"
   ]
  },
  {
   "cell_type": "markdown",
   "id": "b8b53f63",
   "metadata": {},
   "source": [
    "> ### Question:\n",
    "> Why is it not working? Can we fix it?"
   ]
  },
  {
   "cell_type": "markdown",
   "id": "af2a83bc",
   "metadata": {},
   "source": [
    "\n",
    "### 2.5 Hyperparameter Tuning\n",
    "\n",
    "Tuning hyperparameters such as the learning rate, number of layers, or dropout rates can significantly impact model performance.\n",
    "\n",
    "We'll run a small grid search to experiment with different learning rates and dropout probabilities. After each run, we can compare results to find the best configuration.\n"
   ]
  },
  {
   "cell_type": "code",
   "execution_count": 11,
   "id": "afa65233",
   "metadata": {},
   "outputs": [
    {
     "name": "stdout",
     "output_type": "stream",
     "text": [
      "Training with learning rate: 0.001, dropout: 0.3\n",
      "Validation Accuracy: 0.0382\n",
      "Training with learning rate: 0.001, dropout: 0.5\n",
      "Validation Accuracy: 0.0611\n",
      "Training with learning rate: 0.0001, dropout: 0.3\n",
      "Validation Accuracy: 0.0687\n",
      "Training with learning rate: 0.0001, dropout: 0.5\n",
      "Validation Accuracy: 0.0458\n",
      "Best Accuracy: 0.0687 with parameters: {'learning_rate': 0.0001, 'dropout': 0.3}\n"
     ]
    }
   ],
   "source": [
    "\n",
    "# Hyperparameter tuning - experimenting with different learning rates and dropout rates\n",
    "learning_rates = [0.001, 0.0001]\n",
    "dropout_rates = [0.3, 0.5]\n",
    "\n",
    "best_accuracy = 0\n",
    "best_params = None\n",
    "\n",
    "for lr in learning_rates:\n",
    "    for dropout in dropout_rates:\n",
    "        print(f\"Training with learning rate: {lr}, dropout: {dropout}\")\n",
    "        \n",
    "        # Define model with current dropout rate\n",
    "        class TunedNet(nn.Module):\n",
    "            def __init__(self, n_input, n_output):\n",
    "                super(TunedNet, self).__init__()\n",
    "                self.classifier = nn.Sequential(\n",
    "                    nn.Linear(n_input, 512),\n",
    "                    nn.ReLU(),\n",
    "                    nn.Dropout(p=dropout),\n",
    "                    nn.Linear(512, 64),\n",
    "                    nn.ReLU(),\n",
    "                    nn.Dropout(p=dropout),\n",
    "                    nn.Linear(64, n_output),\n",
    "                    nn.Softmax(dim=1)\n",
    "                )\n",
    "\n",
    "            def forward(self, x):\n",
    "                x = x.view(-1, n_input)  # Ensure input is flattened\n",
    "                out = self.classifier(x)\n",
    "                return out\n",
    "\n",
    "        # Initialize model, criterion, and optimizer\n",
    "        model = TunedNet(n_input=n_input, n_output=n_output)\n",
    "        optimizer = torch.optim.Adam(model.parameters(), lr=lr)\n",
    "        \n",
    "        # Training loop (shortened for demonstration purposes)\n",
    "        for epoch in range(5):  # Use fewer epochs for tuning\n",
    "            model.train()\n",
    "            for inputs, targets in dataloader:\n",
    "                outputs = model(inputs)\n",
    "                loss = criterion(outputs, targets)\n",
    "                optimizer.zero_grad()\n",
    "                loss.backward()\n",
    "                optimizer.step()\n",
    "        \n",
    "        # Evaluate on validation/test set\n",
    "        model.eval()\n",
    "        all_preds = []\n",
    "        with torch.no_grad():\n",
    "            for inputs, targets in test_loader:\n",
    "                outputs = model(inputs)\n",
    "                _, predicted = torch.max(outputs, 1)\n",
    "                all_preds.extend(predicted.numpy())\n",
    "        \n",
    "        accuracy = accuracy_score(mapped_val_labels, all_preds)\n",
    "        print(f\"Validation Accuracy: {accuracy:.4f}\")\n",
    "        \n",
    "        # Update best parameters if current model is better\n",
    "        if accuracy > best_accuracy:\n",
    "            best_accuracy = accuracy\n",
    "            best_params = {'learning_rate': lr, 'dropout': dropout}\n",
    "\n",
    "print(f\"Best Accuracy: {best_accuracy:.4f} with parameters: {best_params}\")\n"
   ]
  },
  {
   "cell_type": "markdown",
   "id": "9d3cb290",
   "metadata": {},
   "source": [
    "> ### Quesion: Can we get rid of feature engineering? Can we train a CNN? Is this dataset a good candidate? Why?"
   ]
  },
  {
   "cell_type": "markdown",
   "id": "ef6e0e73",
   "metadata": {},
   "source": [
    "\n",
    "## Part 3: Training a 1D Convolutional Neural Network (CNN)\n",
    "\n",
    "In this final part, we'll train a 1D CNN to classify DNA sequences. This approach involves:\n",
    "\n",
    "1. **Setting a Maximum Length**: We'll define a maximum sequence length, then trim or pad all sequences to this length.\n",
    "2. **One-Hot Encoding DNA Sequences**: Convert sequences to one-hot encoding, so that each base (A, C, G, T) is represented in a way compatible with convolutional layers.\n",
    "3. **Defining and Training the CNN**: We'll use the CNN architecture provided, with five convolutional layers and four fully connected layers.\n"
   ]
  },
  {
   "cell_type": "markdown",
   "id": "e4a24ca9",
   "metadata": {},
   "source": [
    "\n",
    "### 3.1 Setting a Maximum Sequence Length\n",
    "\n",
    "Convolutional networks require fixed-length inputs. We'll set a maximum sequence length and either trim longer sequences or pad shorter sequences to this length.\n"
   ]
  },
  {
   "cell_type": "code",
   "execution_count": 18,
   "id": "6ae37e0c",
   "metadata": {},
   "outputs": [
    {
     "name": "stdout",
     "output_type": "stream",
     "text": [
      "Sample processed sequence GATGGGTGCG ...\n"
     ]
    }
   ],
   "source": [
    "\n",
    "import numpy as np\n",
    "\n",
    "\n",
    "# Read and parse the FASTA file\n",
    "fasta_file = \"HIV_data/train_data.fasta\"  # Replace with your file path\n",
    "sequences = []\n",
    "labels = []\n",
    "\n",
    "for record in SeqIO.parse(fasta_file, \"fasta\"):\n",
    "    sequences.append(str(record.seq))\n",
    "    label = record.description.split('|')[1]  # Extract the taxonomic class\n",
    "    labels.append(label)\n",
    "\n",
    "\n",
    "# Define the maximum length for the sequences\n",
    "max_len = 9500  # Adjust this as needed based on dataset characteristics\n",
    "\n",
    "# Trim or pad sequences\n",
    "def pad_or_trim_sequence(sequence, max_len):\n",
    "    if len(sequence) > max_len:\n",
    "        return sequence[:max_len]\n",
    "    else:\n",
    "        return sequence + 'N' * (max_len - len(sequence))  # Pad with 'N' for unknowns\n",
    "\n",
    "# Apply to all sequences\n",
    "processed_sequences = [pad_or_trim_sequence(seq, max_len) for seq in sequences]\n",
    "print(\"Sample processed sequence\", processed_sequences[0][:10],'...')\n"
   ]
  },
  {
   "cell_type": "markdown",
   "id": "0732260c",
   "metadata": {},
   "source": [
    "\n",
    "### 3.2 One-Hot Encoding DNA Sequences\n",
    "\n",
    "To prepare the sequences for input into a 1D CNN, we will convert each base (A, C, G, T) into a one-hot encoding vector.\n"
   ]
  },
  {
   "cell_type": "markdown",
   "id": "35e4bf2d",
   "metadata": {},
   "source": []
  },
  {
   "cell_type": "code",
   "execution_count": null,
   "id": "5e3e2483",
   "metadata": {},
   "outputs": [
    {
     "name": "stdout",
     "output_type": "stream",
     "text": [
      "Shape of input tensor: torch.Size([909, 4, 9500])\n"
     ]
    }
   ],
   "source": [
    "# Define one-hot encoding for each base\n",
    "def one_hot_encode(sequence, max_len):\n",
    "    encoding_dict = {\n",
    "        'A': [1, 0, 0, 0],\n",
    "        'C': [0, 1, 0, 0],\n",
    "        'G': [0, 0, 1, 0],\n",
    "        'T': [0, 0, 0, 1],\n",
    "        'N': [0, 0, 0, 0]  # Placeholder for padding/unknowns\n",
    "    }\n",
    "    encoded_seq = [encoding_dict[base] for base in sequence]\n",
    "    return np.array(encoded_seq).T  # Transpose to shape (4, max_len)\n",
    "\n",
    "# Encode all sequences\n",
    "encoded_sequences = [one_hot_encode(seq, max_len) for seq in processed_sequences]\n",
    "encoded_sequences = np.stack(encoded_sequences)  # Stack into a single numpy array\n",
    "\n",
    "# Convert to PyTorch tensor and add a dimension for CNN input\n",
    "input_tensor = torch.tensor(encoded_sequences, dtype=torch.float32)  # Shape: (batch_size, 1, 4, max_len)\n",
    "print(\"Shape of input tensor:\", input_tensor.shape)\n"
   ]
  },
  {
   "cell_type": "markdown",
   "id": "55ef3a92",
   "metadata": {},
   "source": [
    "\n",
    "### 3.3 Defining and Training the CNN\n",
    "\n",
    "We'll define the CNN architecture with five convolutional layers and four fully connected layers as provided. Each convolutional layer is followed by a ReLU activation, max pooling, batch normalization, and dropout for regularization.\n"
   ]
  },
  {
   "cell_type": "code",
   "execution_count": 77,
   "id": "b50b2045",
   "metadata": {},
   "outputs": [
    {
     "name": "stdout",
     "output_type": "stream",
     "text": [
      "CNN(\n",
      "  (conv1): Conv1d(4, 8, kernel_size=(6,), stride=(3,))\n",
      "  (conv2): Conv1d(8, 16, kernel_size=(6,), stride=(3,))\n",
      "  (conv3): Conv1d(16, 32, kernel_size=(6,), stride=(2,))\n",
      "  (conv4): Conv1d(32, 64, kernel_size=(6,), stride=(2,))\n",
      "  (conv5): Conv1d(64, 128, kernel_size=(6,), stride=(2,))\n",
      "  (fc1): Linear(in_features=256, out_features=64, bias=True)\n",
      "  (fc2): Linear(in_features=64, out_features=13, bias=True)\n",
      "  (pool): MaxPool1d(kernel_size=2, stride=2, padding=0, dilation=1, ceil_mode=False)\n",
      "  (dropout): Dropout(p=0.2, inplace=False)\n",
      "  (norm1): BatchNorm1d(8, eps=1e-05, momentum=0.1, affine=True, track_running_stats=True)\n",
      "  (norm2): BatchNorm1d(16, eps=1e-05, momentum=0.1, affine=True, track_running_stats=True)\n",
      "  (norm3): BatchNorm1d(32, eps=1e-05, momentum=0.1, affine=True, track_running_stats=True)\n",
      "  (norm4): BatchNorm1d(64, eps=1e-05, momentum=0.1, affine=True, track_running_stats=True)\n",
      "  (norm5): BatchNorm1d(128, eps=1e-05, momentum=0.1, affine=True, track_running_stats=True)\n",
      ")\n"
     ]
    }
   ],
   "source": [
    "import torch.nn as nn\n",
    "import torch.nn.functional as F\n",
    "\n",
    "# Define the CNN model\n",
    "class CNN(nn.Module):\n",
    "    def __init__(self, n_input, n_output, w, stride=3):\n",
    "        super(CNN, self).__init__()\n",
    "        \n",
    "        # 5 convolutional layers\n",
    "        self.conv1 = nn.Conv1d(4, 8, w, stride=stride)\n",
    "        self.conv2 = nn.Conv1d(8, 16, w, stride=stride)\n",
    "        self.conv3 = nn.Conv1d(16, 32, w, stride=stride-1)\n",
    "        self.conv4 = nn.Conv1d(32, 64, w, stride=stride-1)\n",
    "        self.conv5 = nn.Conv1d(64, 128, w, stride=stride-1)\n",
    "\n",
    "        # Fully connected layers\n",
    "        self.fc1 = nn.Linear(256, 64)\n",
    "        self.fc2 = nn.Linear(64, n_output)\n",
    "\n",
    "        # Max Pool Layer (used after each convolution)\n",
    "        self.pool = nn.MaxPool1d(2, 2)\n",
    "        \n",
    "        # Dropout and Batch Normalization\n",
    "        self.dropout = nn.Dropout(p=0.2)\n",
    "        self.norm1 = nn.BatchNorm1d(8)\n",
    "        self.norm2 = nn.BatchNorm1d(16)\n",
    "        self.norm3 = nn.BatchNorm1d(32)\n",
    "        self.norm4 = nn.BatchNorm1d(64)\n",
    "        self.norm5 = nn.BatchNorm1d(128)\n",
    "\n",
    "\n",
    "    def forward(self, x):\n",
    "        # Convolutional layers with batch norm, ReLU, and max pooling\n",
    "        x = self.pool(F.relu(self.norm1(self.conv1(x))))\n",
    "        x = self.pool(F.relu(self.norm2(self.conv2(x))))\n",
    "        x = self.pool(F.relu(self.norm3(self.conv3(x))))\n",
    "        x = self.pool(F.relu(self.norm4(self.conv4(x))))\n",
    "        x = self.pool(F.relu(self.norm5(self.conv5(x))))\n",
    "        \n",
    "        # Flatten the output\n",
    "        x = x.view(x.size(0), -1)\n",
    "\n",
    "        # Fully connected layers\n",
    "        x = self.dropout(F.relu(self.fc1(x)))\n",
    "        x = self.fc2(x)\n",
    "        \n",
    "        return x\n",
    "\n",
    "# Define model with input and output dimensions\n",
    "n_input = 4 * max_len  # 4 channels (one-hot encoding) by max_len\n",
    "n_output = len(set(labels))  # Number of classes\n",
    "\n",
    "# Initialize the model\n",
    "model = CNN(n_input=n_input, n_output=n_output, w=6)  # Using kernel size of 6\n",
    "print(model)\n"
   ]
  },
  {
   "cell_type": "code",
   "execution_count": 78,
   "id": "edac158f",
   "metadata": {},
   "outputs": [
    {
     "name": "stdout",
     "output_type": "stream",
     "text": [
      "Epoch [1/50], Loss: 2.4292\n",
      "Epoch [2/50], Loss: 1.7853\n",
      "Epoch [3/50], Loss: 1.0584\n",
      "Epoch [4/50], Loss: 0.3891\n",
      "Epoch [5/50], Loss: 0.1358\n",
      "Epoch [6/50], Loss: 0.0632\n",
      "Epoch [7/50], Loss: 0.0347\n",
      "Epoch [8/50], Loss: 0.0238\n",
      "Epoch [9/50], Loss: 0.0170\n",
      "Epoch [10/50], Loss: 0.0147\n",
      "Epoch [11/50], Loss: 0.0090\n",
      "Epoch [12/50], Loss: 0.0085\n",
      "Epoch [13/50], Loss: 0.0069\n",
      "Epoch [14/50], Loss: 0.0055\n",
      "Epoch [15/50], Loss: 0.0059\n",
      "Epoch [16/50], Loss: 0.0043\n",
      "Epoch [17/50], Loss: 0.0030\n",
      "Epoch [18/50], Loss: 0.0037\n",
      "Epoch [19/50], Loss: 0.0027\n",
      "Epoch [20/50], Loss: 0.0031\n",
      "Epoch [21/50], Loss: 0.0024\n",
      "Epoch [22/50], Loss: 0.0034\n",
      "Epoch [23/50], Loss: 0.0046\n",
      "Epoch [24/50], Loss: 0.0049\n",
      "Epoch [25/50], Loss: 0.0028\n",
      "Epoch [26/50], Loss: 0.0024\n",
      "Epoch [27/50], Loss: 0.0048\n",
      "Epoch [28/50], Loss: 0.3068\n",
      "Epoch [29/50], Loss: 1.2150\n",
      "Epoch [30/50], Loss: 0.2772\n",
      "Epoch [31/50], Loss: 0.0954\n",
      "Epoch [32/50], Loss: 0.0398\n",
      "Epoch [33/50], Loss: 0.0264\n",
      "Epoch [34/50], Loss: 0.0131\n",
      "Epoch [35/50], Loss: 0.0056\n",
      "Epoch [36/50], Loss: 0.0038\n",
      "Epoch [37/50], Loss: 0.0031\n",
      "Epoch [38/50], Loss: 0.0033\n",
      "Epoch [39/50], Loss: 0.0028\n",
      "Epoch [40/50], Loss: 0.0024\n",
      "Epoch [41/50], Loss: 0.0022\n",
      "Epoch [42/50], Loss: 0.0025\n",
      "Epoch [43/50], Loss: 0.0016\n",
      "Epoch [44/50], Loss: 0.0017\n",
      "Epoch [45/50], Loss: 0.0020\n",
      "Epoch [46/50], Loss: 0.0015\n",
      "Epoch [47/50], Loss: 0.0015\n",
      "Epoch [48/50], Loss: 0.0020\n",
      "Epoch [49/50], Loss: 0.0014\n",
      "Epoch [50/50], Loss: 0.0013\n",
      "Training complete!\n"
     ]
    }
   ],
   "source": [
    "# Define criterion and optimizer\n",
    "criterion = nn.CrossEntropyLoss()\n",
    "optimizer = torch.optim.Adam(model.parameters(), lr=0.001)\n",
    "\n",
    "# Convert labels to integer mapping and set up DataLoader\n",
    "label_map = {label: idx for idx, label in enumerate(set(labels))}\n",
    "mapped_labels = [label_map[lbl] for lbl in labels]\n",
    "\n",
    "labels_tensor = torch.tensor(mapped_labels, dtype=torch.long)\n",
    "dataset = TensorDataset(input_tensor, labels_tensor)\n",
    "dataloader = DataLoader(dataset, batch_size=16, shuffle=True)\n",
    "\n",
    "# Training loop\n",
    "num_epochs = 50\n",
    "for epoch in range(num_epochs):\n",
    "    model.train()  # Set model to training mode\n",
    "    running_loss = 0.0\n",
    "    for inputs, targets in dataloader:\n",
    "        # Forward pass\n",
    "        outputs = model(inputs)\n",
    "        loss = criterion(outputs, targets)\n",
    "        \n",
    "        # Backward pass and optimization\n",
    "        optimizer.zero_grad()\n",
    "        loss.backward()\n",
    "        optimizer.step()\n",
    "        \n",
    "        running_loss += loss.item()\n",
    "    \n",
    "    print(f\"Epoch [{epoch+1}/{num_epochs}], Loss: {running_loss/len(dataloader):.4f}\")\n",
    "\n",
    "print(\"Training complete!\")"
   ]
  },
  {
   "cell_type": "markdown",
   "id": "b70a15fe",
   "metadata": {},
   "source": [
    "### 3.4 Evaluation on the validatoin set\n",
    "\n",
    "Similary to what we did in the previous version, we need to load the data from the validation partition and run the trained model for inference"
   ]
  },
  {
   "cell_type": "code",
   "execution_count": 79,
   "id": "9bf28364",
   "metadata": {},
   "outputs": [
    {
     "name": "stdout",
     "output_type": "stream",
     "text": [
      "Shape of input tensor: torch.Size([909, 4, 9500])\n",
      "Test Accuracy: 0.5496\n"
     ]
    },
    {
     "data": {
      "text/plain": [
       "<sklearn.metrics._plot.confusion_matrix.ConfusionMatrixDisplay at 0x7f5d24d22550>"
      ]
     },
     "execution_count": 79,
     "metadata": {},
     "output_type": "execute_result"
    },
    {
     "data": {
      "image/png": "[encoded data removed]",
      "text/plain": [
       "<Figure size 640x480 with 2 Axes>"
      ]
     },
     "metadata": {},
     "output_type": "display_data"
    }
   ],
   "source": [
    "\n",
    "from sklearn.metrics import accuracy_score, confusion_matrix, ConfusionMatrixDisplay\n",
    "import pandas as pd\n",
    "\n",
    "\n",
    "fasta_file = \"HIV_data/val_data.fasta\"  # Replace with your file path\n",
    "sequences = []\n",
    "ids = []\n",
    "\n",
    "for record in SeqIO.parse(fasta_file, \"fasta\"):\n",
    "    sequences.append(str(record.seq))\n",
    "    label = record.description[0]  # Extract the tid\n",
    "    ids.append(label)\n",
    "\n",
    "processed_sequences = [pad_or_trim_sequence(seq, max_len) for seq in sequences]\n",
    "\n",
    "\n",
    "# Encode all sequences\n",
    "encoded_sequences = [one_hot_encode(seq, max_len) for seq in processed_sequences]\n",
    "encoded_sequences = np.stack(encoded_sequences)  # Stack into a single numpy array\n",
    "\n",
    "# Convert to PyTorch tensor and add a dimension for CNN input\n",
    "val_features = torch.tensor(encoded_sequences, dtype=torch.float32)  # Shape: (batch_size, 4, max_len)\n",
    "print(\"Shape of input tensor:\", input_tensor.shape)\n",
    "\n",
    "\n",
    "val_labels = pd.read_csv(\"HIV_data/val_taxonomy.csv\")[\"taxonomy\"].to_list()\n",
    "mapped_val_labels = [label_map[lbl] for lbl in val_labels]\n",
    "val_labels_tensor = torch.tensor(mapped_val_labels, dtype=torch.long)\n",
    "\n",
    "# Create DataLoader for test set\n",
    "test_dataset = TensorDataset(val_features, val_labels_tensor)\n",
    "test_loader = DataLoader(test_dataset, batch_size=32, shuffle=False)\n",
    "\n",
    "# Evaluation\n",
    "model.eval()  # Set model to evaluation mode\n",
    "all_preds = []\n",
    "all_labels = []\n",
    "\n",
    "with torch.no_grad():\n",
    "    for inputs, targets in test_loader:\n",
    "        outputs = model(inputs)\n",
    "        _, predicted = torch.max(outputs, 1)\n",
    "        all_preds.extend(predicted.numpy())\n",
    "        all_labels.extend(targets.numpy())\n",
    "\n",
    "# Calculate accuracy\n",
    "accuracy = accuracy_score(all_labels, all_preds)\n",
    "print(f\"Test Accuracy: {accuracy:.4f}\")\n",
    "\n",
    "# Plot confusion matrix\n",
    "cm = confusion_matrix(all_labels, all_preds)\n",
    "disp = ConfusionMatrixDisplay(confusion_matrix=cm)\n",
    "disp.plot(cmap=\"Blues\")\n"
   ]
  },
  {
   "cell_type": "markdown",
   "id": "e091b3e7",
   "metadata": {},
   "source": [
    "> ### Question:\n",
    "> Why is it not working? Can we fix it?"
   ]
  }
 ],
 "metadata": {
  "kernelspec": {
   "display_name": "dev_iDeLUCS",
   "language": "python",
   "name": "python3"
  },
  "language_info": {
   "codemirror_mode": {
    "name": "ipython",
    "version": 3
   },
   "file_extension": ".py",
   "mimetype": "text/x-python",
   "name": "python",
   "nbconvert_exporter": "python",
   "pygments_lexer": "ipython3",
   "version": "3.8.10"
  }
 },
 "nbformat": 4,
 "nbformat_minor": 5
}
