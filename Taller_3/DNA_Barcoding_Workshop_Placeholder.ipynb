{
 "cells": [
  {
   "cell_type": "markdown",
   "id": "f8edc709",
   "metadata": {},
   "source": [
    "# **DNA Barcoding Analysis: Alignment-Based vs. Deep Learning Approaches**\n",
    "\n",
    "In this workshop you will use transformer models as an alternative for BLAST in DNA barcoding"
   ]
  },
  {
   "cell_type": "markdown",
   "id": "03884b49",
   "metadata": {},
   "source": [
    "## **Step 1: Setup**"
   ]
  },
  {
   "cell_type": "markdown",
   "id": "c90de5c5",
   "metadata": {},
   "source": [
    "1. Download the metadata from  [metadata](https://drive.google.com/drive/u/1/folders/1Jc57eKkeiYrnUBc9WlIp-ZS_L1bVlT-0)\n",
    "2. Split the data into pre_training, training, testing and unseen\n",
    "`python data_split.py BIOSCAN-5M_Dataset_metadata.tsv`"
   ]
  },
  {
   "cell_type": "markdown",
   "id": "aa385d1c",
   "metadata": {},
   "source": [
    "### ***Optional for Collab***"
   ]
  },
  {
   "cell_type": "code",
   "execution_count": null,
   "id": "09580da2",
   "metadata": {},
   "outputs": [],
   "source": [
    "# Mount Google Drive\n",
    "# from google.colab import drive\n",
    "# drive.mount('/content/drive')"
   ]
  },
  {
   "cell_type": "code",
   "execution_count": null,
   "id": "b4863da9",
   "metadata": {},
   "outputs": [],
   "source": [
    "# Navigate to the data folder\n",
    "# %cd /content/drive/My\\ Drive/EIFA_Clase_Practica"
   ]
  },
  {
   "cell_type": "code",
   "execution_count": null,
   "id": "47cc5541",
   "metadata": {},
   "outputs": [],
   "source": [
    "# List contents to confirm files are present\n",
    "# !ls"
   ]
  },
  {
   "cell_type": "markdown",
   "id": "9d870b98",
   "metadata": {},
   "source": [
    "## **Step 2: Install BLAST**"
   ]
  },
  {
   "cell_type": "code",
   "execution_count": null,
   "id": "cbe27af5",
   "metadata": {},
   "outputs": [],
   "source": [
    "# Update and install BLAST\n",
    "# !sudo apt-get update\n",
    "# !sudo apt-get install ncbi-blast+"
   ]
  },
  {
   "cell_type": "code",
   "execution_count": null,
   "id": "f07c4771",
   "metadata": {},
   "outputs": [],
   "source": [
    "# Verify BLAST installation\n",
    "# !blastn -version"
   ]
  },
  {
   "cell_type": "markdown",
   "id": "224338a2",
   "metadata": {},
   "source": [
    "## **Step 3: Alignment-Based DNA Barcoding Analysis with BLAST**"
   ]
  },
  {
   "cell_type": "code",
   "execution_count": null,
   "id": "22bdf297",
   "metadata": {},
   "outputs": [],
   "source": [
    "# Create BLAST database\n",
    "# !makeblastdb -in supervised_train.fas -title train -dbtype nucl -out train.fas"
   ]
  },
  {
   "cell_type": "code",
   "execution_count": null,
   "id": "638af959",
   "metadata": {},
   "outputs": [],
   "source": [
    "# Perform BLAST search\n",
    "# !blastn -query unseen.fas -db train.fas -out results_unseen.tsv -outfmt 6"
   ]
  },
  {
   "cell_type": "code",
   "execution_count": null,
   "id": "e337d8a6",
   "metadata": {},
   "outputs": [],
   "source": [
    "# Read BLAST results and extract top hit identifiers\n",
    "# import pandas as pd\n",
    "# blast_results = pd.read_csv('results_unseen.tsv', sep='\\t', header=None)\n",
    "# blast_results.columns = [...]\n",
    "# top_hits = blast_results.groupby('qseqid').first().reset_index()\n",
    "# top_hits_identifiers = top_hits[['qseqid', 'sseqid']]\n",
    "# top_hits_identifiers.head()"
   ]
  },
  {
   "cell_type": "markdown",
   "id": "42b95378",
   "metadata": {},
   "source": [
    "## **Step 4: Deep Learning-Based DNA Barcoding Analysis**"
   ]
  },
  {
   "cell_type": "markdown",
   "id": "6698b0c8",
   "metadata": {},
   "source": [
    "I am providing you with the driver code to load the transformer models and compute the representations"
   ]
  },
  {
   "cell_type": "code",
   "execution_count": null,
   "id": "dc9ac78c",
   "metadata": {},
   "outputs": [],
   "source": [
    "# Set up and test transformer models\n",
    "import sys\n",
    "import os\n",
    "\n",
    "\n",
    "sys.path.append('BarcodeBERT-BIOSCAN-5M')\n",
    "from baselines.datasets import representations_from_df, labels_from_df\n",
    "from baselines.io import load_baseline_model\n",
    "\n",
    "data_folder = \"\"\n",
    "\n",
    "for model_name in [\"DNABERT-S\"]: #\"BarcodeBERT\", \"DNABERT-2\", \"DNABERT-S\", \"NT\",\n",
    "    if model_name == \"BarcodeBERT\":\n",
    "        embedder = load_baseline_model(model_name, checkpoint_path=None, new_vocab=True, k_mer=4, n_heads=6, n_layers=6)\n",
    "    else:\n",
    "        embedder = load_baseline_model(model_name)\n",
    "        embedder.name = model_name\n",
    "        embedder.model.eval()\n",
    "\n",
    "        trainable_params = sum(p.numel() for p in embedder.model.parameters() if p.requires_grad)\n",
    "        print(f\"Number of trainable parameters: {trainable_params}\")\n",
    "\n",
    "        embeddings_train = representations_from_df(f\"supervised_train.csv\", embedder, dataset=\"BIOSCAN-5M\", target=\"processid\")\n",
    "        print(embeddings_train.shape)\n",
    "\n",
    "        embeddings_test = representations_from_df(f\"unseen.csv\", embedder, dataset=\"BIOSCAN-5M\", target=\"processid\")\n",
    "        print(embeddings_test.shape)\n"
   ]
  },
  {
   "cell_type": "markdown",
   "id": "c789c7d7",
   "metadata": {},
   "source": [
    "## **Step 5: K-Nearest Neighbors (KNN) Search Using Embeddings**"
   ]
  },
  {
   "cell_type": "code",
   "execution_count": null,
   "id": "f3b8f2be",
   "metadata": {},
   "outputs": [],
   "source": [
    "from sklearn.neighbors import NearestNeighbors\n",
    "import numpy as np\n",
    "\n",
    "# Convert embeddings to numpy arrays for KNN\n",
    "embeddings_train_np = embeddings_train['data'].to_numpy()\n",
    "embeddings_test_np = embeddings_test['data'].to_numpy()\n",
    "\n",
    "# Fit KNN model\n",
    "knn = NearestNeighbors(n_neighbors=1, algorithm='auto').fit(embeddings_train_np)\n",
    "\n",
    "# Find 1-NN for each test embedding\n",
    "distances, indices = knn.kneighbors(embeddings_test_np)\n",
    "\n",
    "# Get top identifier for each test instance\n",
    "closest_ids = [embeddings_train['ids'][i] for i in indices]\n",
    "print(closest_ids)"
   ]
  },
  {
   "cell_type": "markdown",
   "id": "c46b5b36",
   "metadata": {},
   "source": [
    "## **Step 6: Evaluate your inferred taxonomy**"
   ]
  },
  {
   "cell_type": "code",
   "execution_count": null,
   "id": "e6cf9f55",
   "metadata": {},
   "outputs": [],
   "source": [
    "### >>>>  For BLAST\n",
    "# import pandas as pd\n",
    "\n",
    "# total, correct = 0, 0\n",
    "\n",
    "# df = pd.read_csv(\"results_unseen.tsv\", sep='\\t', header=None, names=[\"qseqid\",\"sseqid\", \"pident\", \"length\", \"mismatch\", \"gapopen\", \"qstart\", \"qend\",\"sstart\", \"send\", \"evalue\", \"bitscore\"])\n",
    "# df = df.drop_duplicates(subset=[\"qseqid\"])\n",
    "# df['qseqid'] = df['qseqid'].apply(lambda x: x[:-1])\n",
    "# df['sseqid'] = df['sseqid'].apply(lambda x: x[:-1])\n",
    "# df\n",
    "\n",
    "# # Load the data from the CSV files\n",
    "# supervised_df = pd.read_csv('supervised_train.csv')\n",
    "# unseen_df = pd.read_csv('unseen.csv')\n",
    "\n",
    "# # Example list of pairs (processid_unseen, processid_supervised)\n",
    "# pairs = list(zip(df['qseqid'],df['sseqid']))\n",
    "# #print(pairs)\n",
    "\n",
    "# # Initialize counters for matches and total pairs\n",
    "# same_genus_count = 0\n",
    "# total_pairs = len(pairs)\n",
    "\n",
    "# # Loop through the pairs and check for genus_name matches\n",
    "# for unseen_id, supervised_id in pairs:\n",
    "#     # Find the corresponding genus_name in both DataFrames\n",
    "#     genus_unseen = unseen_df.loc[unseen_df['processid'] == unseen_id, 'genus_name']\n",
    "#     genus_supervised = supervised_df.loc[supervised_df['processid'] == supervised_id, 'genus_name']\n",
    "    \n",
    "#     # Check if both genus names are found and if they are the same\n",
    "#     if not genus_unseen.empty and not genus_supervised.empty:\n",
    "#         if genus_unseen.iloc[0] == genus_supervised.iloc[0]:\n",
    "#             same_genus_count += 1\n",
    "\n",
    "# # Calculate the percentage\n",
    "# percentage_same = (same_genus_count / total_pairs) * 100 if total_pairs > 0 else 0\n",
    "\n",
    "# print(f\"Percentage of matching genus_name values: {percentage_same:.2f}%\")"
   ]
  },
  {
   "cell_type": "code",
   "execution_count": null,
   "id": "1d0a44c3",
   "metadata": {},
   "outputs": [],
   "source": [
    "# >>> ------------- For the transformer model\n",
    "\n",
    "# import pandas as pd\n",
    "\n",
    "# total, correct = 0, 0\n",
    "\n",
    "# pairs = list(zip(embeddings_test['data],closests_ids))\n",
    "# # Load the data from the CSV files\n",
    "# supervised_df = pd.read_csv('supervised_train.csv')\n",
    "# unseen_df = pd.read_csv('unseen.csv')\n",
    "\n",
    "# # Example list of pairs (processid_unseen, processid_supervised)\n",
    "# pairs = list(zip(df['qseqid'],df['sseqid']))\n",
    "# #print(pairs)\n",
    "\n",
    "# # Initialize counters for matches and total pairs\n",
    "# same_genus_count = 0\n",
    "# total_pairs = len(pairs)\n",
    "\n",
    "# # Loop through the pairs and check for genus_name matches\n",
    "# for unseen_id, supervised_id in pairs:\n",
    "#     # Find the corresponding genus_name in both DataFrames\n",
    "#     genus_unseen = unseen_df.loc[unseen_df['processid'] == unseen_id, 'genus_name']\n",
    "#     genus_supervised = supervised_df.loc[supervised_df['processid'] == supervised_id, 'genus_name']\n",
    "    \n",
    "#     # Check if both genus names are found and if they are the same\n",
    "#     if not genus_unseen.empty and not genus_supervised.empty:\n",
    "#         if genus_unseen.iloc[0] == genus_supervised.iloc[0]:\n",
    "#             same_genus_count += 1\n",
    "\n",
    "# # Calculate the percentage\n",
    "# percentage_same = (same_genus_count / total_pairs) * 100 if total_pairs > 0 else 0\n",
    "\n",
    "# print(f\"Percentage of matching genus_name values: {percentage_same:.2f}%\")"
   ]
  },
  {
   "cell_type": "code",
   "execution_count": null,
   "id": "1f828d4e",
   "metadata": {},
   "outputs": [],
   "source": []
  }
 ],
 "metadata": {
  "kernelspec": {
   "display_name": "barcodebert",
   "language": "python",
   "name": "python3"
  },
  "language_info": {
   "codemirror_mode": {
    "name": "ipython",
    "version": 3
   },
   "file_extension": ".py",
   "mimetype": "text/x-python",
   "name": "python",
   "nbconvert_exporter": "python",
   "pygments_lexer": "ipython3",
   "version": "3.11.9"
  }
 },
 "nbformat": 4,
 "nbformat_minor": 5
}
